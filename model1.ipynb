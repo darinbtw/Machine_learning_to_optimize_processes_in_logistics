{
 "cells": [
  {
   "cell_type": "code",
   "execution_count": 1,
   "id": "8083ec39",
   "metadata": {},
   "outputs": [
    {
     "name": "stderr",
     "output_type": "stream",
     "text": [
      "Importing plotly failed. Interactive plots will not work.\n"
     ]
    },
    {
     "name": "stdout",
     "output_type": "stream",
     "text": [
      "Первые 5 строк сгенерированного датасета:\n",
      "          ds           y\n",
      "0 2020-01-01  102.483571\n",
      "1 2020-01-02  107.521025\n",
      "2 2020-01-03  113.775683\n",
      "3 2020-01-04  113.135674\n",
      "4 2020-01-05   96.065504\n"
     ]
    }
   ],
   "source": [
    "import pandas as pd\n",
    "import numpy as np\n",
    "from prophet import Prophet\n",
    "import matplotlib.pyplot as plt\n",
    "from sklearn.metrics import mean_absolute_error, mean_squared_error\n",
    "import warnings\n",
    "warnings.filterwarnings('ignore')\n",
    "\n",
    "# Генерация синтетического датасета продаж с сезонностью (имитация реальных данных)\n",
    "np.random.seed(42)\n",
    "date_rng = pd.date_range(start='2020-01-01', end='2023-12-31', freq='D')\n",
    "sales = 100 + 0.05 * np.arange(len(date_rng)) + \\\n",
    "        20 * np.sin(2 * np.pi * np.arange(len(date_rng)) / 365.25) + \\\n",
    "        10 * np.sin(2 * np.pi * np.arange(len(date_rng)) / 7) + \\\n",
    "        np.random.normal(0, 5, len(date_rng))\n",
    "\n",
    "df = pd.DataFrame({\n",
    "    'ds': date_rng,\n",
    "    'y': np.maximum(sales, 0)  # Продажи не могут быть отрицательными\n",
    "})\n",
    "\n",
    "print(\"Первые 5 строк сгенерированного датасета:\")\n",
    "print(df.head())"
   ]
  },
  {
   "cell_type": "code",
   "execution_count": 2,
   "id": "64580b79",
   "metadata": {},
   "outputs": [
    {
     "name": "stdout",
     "output_type": "stream",
     "text": [
      "\n",
      "Размер обучающей выборки: 1096\n",
      "Размер тестовой выборки: 365\n"
     ]
    }
   ],
   "source": [
    "# Разделим данные: обучение на данных до 2023 года, тест на 2023 год\n",
    "train = df[df['ds'] < '2023-01-01']\n",
    "test = df[df['ds'] >= '2023-01-01']\n",
    "\n",
    "print(f\"\\nРазмер обучающей выборки: {len(train)}\")\n",
    "print(f\"Размер тестовой выборки: {len(test)}\")"
   ]
  },
  {
   "cell_type": "code",
   "execution_count": 3,
   "id": "6dbd5ac5",
   "metadata": {},
   "outputs": [
    {
     "name": "stderr",
     "output_type": "stream",
     "text": [
      "19:58:39 - cmdstanpy - INFO - Chain [1] start processing\n",
      "19:58:39 - cmdstanpy - INFO - Chain [1] done processing\n"
     ]
    }
   ],
   "source": [
    "# Создание и обучение модели\n",
    "model = Prophet(\n",
    "    yearly_seasonality=True,\n",
    "    weekly_seasonality=True,\n",
    "    daily_seasonality=False,\n",
    "    interval_width=0.95\n",
    ")\n",
    "\n",
    "model.fit(train)\n",
    "\n",
    "# Создание будущего датафрейма для прогноза\n",
    "future = model.make_future_dataframe(periods=len(test), freq='D')\n",
    "forecast = model.predict(future)\n",
    "\n",
    "# Извлечение прогноза для тестового периода\n",
    "forecast_test = forecast[forecast['ds'] >= '2023-01-01'][['ds', 'yhat', 'yhat_lower', 'yhat_upper']]"
   ]
  },
  {
   "cell_type": "code",
   "execution_count": null,
   "id": "ced90746",
   "metadata": {},
   "outputs": [],
   "source": [
    "# Объединение реальных и прогнозируемых значений\n",
    "results = test.copy()\n",
    "results['yhat'] = forecast_test['yhat'].values\n",
    "\n",
    "# Расчет метрик\n",
    "mae = mean_absolute_error(results['y'], results['yhat'])\n",
    "rmse = np.sqrt(mean_squared_error(results['y'], results['yhat']))\n",
    "\n",
    "print(f\"\\n--- Результаты прогнозирования ---\")\n",
    "print(f\"Средняя абсолютная ошибка (MAE): {mae:.2f}\")\n",
    "print(f\"Среднеквадратичная ошибка (RMSE): {rmse:.2f}\")\n",
    "\n",
    "# Визуализация\n",
    "fig, ax = plt.subplots(figsize=(14, 7))\n",
    "ax.plot(train['ds'], train['y'], label='Обучающие данные', color='blue')\n",
    "ax.plot(test['ds'], test['y'], label='Реальные данные (тест)', color='green')\n",
    "ax.plot(test['ds'], results['yhat'], label='Прогноз', color='red', linestyle='--')\n",
    "ax.fill_between(test['ds'],\n",
    "                forecast_test['yhat_lower'],\n",
    "                forecast_test['yhat_upper'],\n",
    "                color='red', alpha=0.2, label='95% доверительный интервал')\n",
    "\n",
    "ax.set_title('Прогнозирование спроса с помощью Prophet')\n",
    "ax.set_xlabel('Дата')\n",
    "ax.set_ylabel('Спрос (условные единицы)')\n",
    "ax.legend()\n",
    "ax.grid(True)\n",
    "plt.xticks(rotation=45)\n",
    "plt.tight_layout()\n",
    "plt.show()"
   ]
  }
 ],
 "metadata": {
  "kernelspec": {
   "display_name": ".venv (3.12.6)",
   "language": "python",
   "name": "python3"
  },
  "language_info": {
   "codemirror_mode": {
    "name": "ipython",
    "version": 3
   },
   "file_extension": ".py",
   "mimetype": "text/x-python",
   "name": "python",
   "nbconvert_exporter": "python",
   "pygments_lexer": "ipython3",
   "version": "3.12.6"
  }
 },
 "nbformat": 4,
 "nbformat_minor": 5
}

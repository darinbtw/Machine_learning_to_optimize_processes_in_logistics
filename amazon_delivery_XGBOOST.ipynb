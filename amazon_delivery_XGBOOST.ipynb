{
 "cells": [
  {
   "cell_type": "code",
   "execution_count": 1,
   "id": "51858de7",
   "metadata": {},
   "outputs": [
    {
     "name": "stdout",
     "output_type": "stream",
     "text": [
      "Collecting xgboost\n",
      "  Downloading xgboost-3.0.5-py3-none-win_amd64.whl.metadata (2.1 kB)\n",
      "Requirement already satisfied: numpy in c:\\users\\darin_btw\\documents\\github\\machine_learning_to_optimize_processes_in_logistics\\.venv\\lib\\site-packages (from xgboost) (2.3.2)\n",
      "Requirement already satisfied: scipy in c:\\users\\darin_btw\\documents\\github\\machine_learning_to_optimize_processes_in_logistics\\.venv\\lib\\site-packages (from xgboost) (1.16.1)\n",
      "Downloading xgboost-3.0.5-py3-none-win_amd64.whl (56.8 MB)\n",
      "   ---------------------------------------- 0.0/56.8 MB ? eta -:--:--\n",
      "   ---------------------------------------- 0.3/56.8 MB ? eta -:--:--\n",
      "   - -------------------------------------- 1.8/56.8 MB 7.2 MB/s eta 0:00:08\n",
      "   -- ------------------------------------- 4.2/56.8 MB 9.3 MB/s eta 0:00:06\n",
      "   ---- ----------------------------------- 6.3/56.8 MB 10.2 MB/s eta 0:00:05\n",
      "   ------ --------------------------------- 9.4/56.8 MB 10.5 MB/s eta 0:00:05\n",
      "   -------- ------------------------------- 11.8/56.8 MB 10.7 MB/s eta 0:00:05\n",
      "   ---------- ----------------------------- 14.4/56.8 MB 10.8 MB/s eta 0:00:04\n",
      "   ----------- ---------------------------- 16.8/56.8 MB 11.0 MB/s eta 0:00:04\n",
      "   ------------- -------------------------- 19.4/56.8 MB 11.0 MB/s eta 0:00:04\n",
      "   --------------- ------------------------ 21.8/56.8 MB 11.1 MB/s eta 0:00:04\n",
      "   ----------------- ---------------------- 24.4/56.8 MB 11.2 MB/s eta 0:00:03\n",
      "   ------------------- -------------------- 27.0/56.8 MB 11.3 MB/s eta 0:00:03\n",
      "   -------------------- ------------------- 29.4/56.8 MB 11.3 MB/s eta 0:00:03\n",
      "   --------------------- ------------------ 31.2/56.8 MB 11.3 MB/s eta 0:00:03\n",
      "   ------------------------ --------------- 34.6/56.8 MB 11.3 MB/s eta 0:00:02\n",
      "   -------------------------- ------------- 37.0/56.8 MB 11.3 MB/s eta 0:00:02\n",
      "   --------------------------- ------------ 39.6/56.8 MB 11.4 MB/s eta 0:00:02\n",
      "   ----------------------------- ---------- 41.9/56.8 MB 11.4 MB/s eta 0:00:02\n",
      "   ------------------------------- -------- 44.3/56.8 MB 11.4 MB/s eta 0:00:02\n",
      "   --------------------------------- ------ 46.9/56.8 MB 11.4 MB/s eta 0:00:01\n",
      "   ---------------------------------- ----- 48.8/56.8 MB 11.5 MB/s eta 0:00:01\n",
      "   ------------------------------------ --- 51.6/56.8 MB 11.5 MB/s eta 0:00:01\n",
      "   -------------------------------------- - 54.0/56.8 MB 11.5 MB/s eta 0:00:01\n",
      "   ---------------------------------------  56.4/56.8 MB 11.5 MB/s eta 0:00:01\n",
      "   ---------------------------------------- 56.8/56.8 MB 11.3 MB/s  0:00:05\n",
      "Installing collected packages: xgboost\n",
      "Successfully installed xgboost-3.0.5\n"
     ]
    }
   ],
   "source": [
    "!pip3 install xgboost"
   ]
  },
  {
   "cell_type": "code",
   "execution_count": null,
   "id": "888299fd",
   "metadata": {},
   "outputs": [],
   "source": [
    "import xgboost as xgb\n",
    "from sklearn.model_selection import GridSearchCV\n",
    "from "
   ]
  }
 ],
 "metadata": {
  "kernelspec": {
   "display_name": ".venv (3.12.6)",
   "language": "python",
   "name": "python3"
  },
  "language_info": {
   "codemirror_mode": {
    "name": "ipython",
    "version": 3
   },
   "file_extension": ".py",
   "mimetype": "text/x-python",
   "name": "python",
   "nbconvert_exporter": "python",
   "pygments_lexer": "ipython3",
   "version": "3.12.6"
  }
 },
 "nbformat": 4,
 "nbformat_minor": 5
}

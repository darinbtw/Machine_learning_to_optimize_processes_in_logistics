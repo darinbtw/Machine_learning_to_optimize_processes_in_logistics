{
 "cells": [
  {
   "cell_type": "code",
   "execution_count": null,
   "id": "da3f862e",
   "metadata": {},
   "outputs": [
    {
     "name": "stdout",
     "output_type": "stream",
     "text": [
      "Collecting numpy\n",
      "  Downloading numpy-2.2.6-cp310-cp310-win_amd64.whl.metadata (60 kB)\n",
      "Downloading numpy-2.2.6-cp310-cp310-win_amd64.whl (12.9 MB)\n",
      "   ---------------------------------------- 0.0/12.9 MB ? eta -:--:--\n",
      "   - -------------------------------------- 0.5/12.9 MB 4.2 MB/s eta 0:00:03\n",
      "   -------- ------------------------------- 2.9/12.9 MB 9.3 MB/s eta 0:00:02\n",
      "   ------------------ --------------------- 6.0/12.9 MB 11.5 MB/s eta 0:00:01\n",
      "   --------------------------- ------------ 8.9/12.9 MB 12.3 MB/s eta 0:00:01\n",
      "   ------------------------------------- -- 12.1/12.9 MB 12.6 MB/s eta 0:00:01\n",
      "   ---------------------------------------- 12.9/12.9 MB 12.6 MB/s eta 0:00:00\n",
      "Installing collected packages: numpy\n",
      "Successfully installed numpy-2.2.6\n"
     ]
    },
    {
     "name": "stderr",
     "output_type": "stream",
     "text": [
      "\n",
      "[notice] A new release of pip is available: 25.1.1 -> 25.2\n",
      "[notice] To update, run: python.exe -m pip install --upgrade pip\n"
     ]
    },
    {
     "name": "stdout",
     "output_type": "stream",
     "text": [
      "Collecting pandas\n",
      "  Downloading pandas-2.3.2-cp310-cp310-win_amd64.whl.metadata (19 kB)\n",
      "Requirement already satisfied: numpy>=1.22.4 in c:\\users\\darin_btw\\appdata\\local\\programs\\python\\python310\\lib\\site-packages (from pandas) (2.2.6)\n",
      "Requirement already satisfied: python-dateutil>=2.8.2 in c:\\users\\darin_btw\\appdata\\roaming\\python\\python310\\site-packages (from pandas) (2.9.0.post0)\n",
      "Collecting pytz>=2020.1 (from pandas)\n",
      "  Using cached pytz-2025.2-py2.py3-none-any.whl.metadata (22 kB)\n",
      "Collecting tzdata>=2022.7 (from pandas)\n",
      "  Using cached tzdata-2025.2-py2.py3-none-any.whl.metadata (1.4 kB)\n",
      "Requirement already satisfied: six>=1.5 in c:\\users\\darin_btw\\appdata\\roaming\\python\\python310\\site-packages (from python-dateutil>=2.8.2->pandas) (1.17.0)\n",
      "Downloading pandas-2.3.2-cp310-cp310-win_amd64.whl (11.3 MB)\n",
      "   ---------------------------------------- 0.0/11.3 MB ? eta -:--:--\n",
      "   ---------------------------------------- 0.0/11.3 MB ? eta -:--:--\n",
      "   - -------------------------------------- 0.5/11.3 MB 1.9 MB/s eta 0:00:06\n",
      "   ---- ----------------------------------- 1.3/11.3 MB 3.2 MB/s eta 0:00:04\n",
      "   ------- -------------------------------- 2.1/11.3 MB 3.7 MB/s eta 0:00:03\n",
      "   ---------- ----------------------------- 2.9/11.3 MB 3.5 MB/s eta 0:00:03\n",
      "   ------------ --------------------------- 3.7/11.3 MB 3.6 MB/s eta 0:00:03\n",
      "   --------------- ------------------------ 4.5/11.3 MB 3.6 MB/s eta 0:00:02\n",
      "   -------------------- ------------------- 5.8/11.3 MB 3.9 MB/s eta 0:00:02\n",
      "   ----------------------- ---------------- 6.6/11.3 MB 3.9 MB/s eta 0:00:02\n",
      "   --------------------------- ------------ 7.9/11.3 MB 4.1 MB/s eta 0:00:01\n",
      "   ------------------------------ --------- 8.7/11.3 MB 4.0 MB/s eta 0:00:01\n",
      "   ------------------------------- -------- 8.9/11.3 MB 4.0 MB/s eta 0:00:01\n",
      "   --------------------------------- ------ 9.4/11.3 MB 3.7 MB/s eta 0:00:01\n",
      "   ---------------------------------------  11.3/11.3 MB 4.0 MB/s eta 0:00:01\n",
      "   ---------------------------------------- 11.3/11.3 MB 4.1 MB/s eta 0:00:00\n",
      "Using cached pytz-2025.2-py2.py3-none-any.whl (509 kB)\n",
      "Using cached tzdata-2025.2-py2.py3-none-any.whl (347 kB)\n",
      "Installing collected packages: pytz, tzdata, pandas\n",
      "\n",
      "   ---------------------------------------- 0/3 [pytz]\n",
      "   ---------------------------------------- 0/3 [pytz]\n",
      "   ------------- -------------------------- 1/3 [tzdata]\n",
      "   ------------- -------------------------- 1/3 [tzdata]\n",
      "   -------------------------- ------------- 2/3 [pandas]\n",
      "   -------------------------- ------------- 2/3 [pandas]\n",
      "   -------------------------- ------------- 2/3 [pandas]\n",
      "   -------------------------- ------------- 2/3 [pandas]\n",
      "   -------------------------- ------------- 2/3 [pandas]\n",
      "   -------------------------- ------------- 2/3 [pandas]\n",
      "   -------------------------- ------------- 2/3 [pandas]\n",
      "   -------------------------- ------------- 2/3 [pandas]\n",
      "   -------------------------- ------------- 2/3 [pandas]\n",
      "   -------------------------- ------------- 2/3 [pandas]\n",
      "   -------------------------- ------------- 2/3 [pandas]\n",
      "   -------------------------- ------------- 2/3 [pandas]\n",
      "   -------------------------- ------------- 2/3 [pandas]\n",
      "   -------------------------- ------------- 2/3 [pandas]\n",
      "   -------------------------- ------------- 2/3 [pandas]\n",
      "   -------------------------- ------------- 2/3 [pandas]\n",
      "   -------------------------- ------------- 2/3 [pandas]\n",
      "   -------------------------- ------------- 2/3 [pandas]\n",
      "   -------------------------- ------------- 2/3 [pandas]\n",
      "   -------------------------- ------------- 2/3 [pandas]\n",
      "   -------------------------- ------------- 2/3 [pandas]\n",
      "   -------------------------- ------------- 2/3 [pandas]\n",
      "   -------------------------- ------------- 2/3 [pandas]\n",
      "   -------------------------- ------------- 2/3 [pandas]\n",
      "   -------------------------- ------------- 2/3 [pandas]\n",
      "   -------------------------- ------------- 2/3 [pandas]\n",
      "   -------------------------- ------------- 2/3 [pandas]\n",
      "   -------------------------- ------------- 2/3 [pandas]\n",
      "   -------------------------- ------------- 2/3 [pandas]\n",
      "   -------------------------- ------------- 2/3 [pandas]\n",
      "   -------------------------- ------------- 2/3 [pandas]\n",
      "   -------------------------- ------------- 2/3 [pandas]\n",
      "   -------------------------- ------------- 2/3 [pandas]\n",
      "   -------------------------- ------------- 2/3 [pandas]\n",
      "   -------------------------- ------------- 2/3 [pandas]\n",
      "   -------------------------- ------------- 2/3 [pandas]\n",
      "   -------------------------- ------------- 2/3 [pandas]\n",
      "   -------------------------- ------------- 2/3 [pandas]\n",
      "   -------------------------- ------------- 2/3 [pandas]\n",
      "   -------------------------- ------------- 2/3 [pandas]\n",
      "   -------------------------- ------------- 2/3 [pandas]\n",
      "   -------------------------- ------------- 2/3 [pandas]\n",
      "   -------------------------- ------------- 2/3 [pandas]\n",
      "   -------------------------- ------------- 2/3 [pandas]\n",
      "   -------------------------- ------------- 2/3 [pandas]\n",
      "   -------------------------- ------------- 2/3 [pandas]\n",
      "   -------------------------- ------------- 2/3 [pandas]\n",
      "   -------------------------- ------------- 2/3 [pandas]\n",
      "   -------------------------- ------------- 2/3 [pandas]\n",
      "   -------------------------- ------------- 2/3 [pandas]\n",
      "   -------------------------- ------------- 2/3 [pandas]\n",
      "   -------------------------- ------------- 2/3 [pandas]\n",
      "   -------------------------- ------------- 2/3 [pandas]\n",
      "   -------------------------- ------------- 2/3 [pandas]\n",
      "   -------------------------- ------------- 2/3 [pandas]\n",
      "   -------------------------- ------------- 2/3 [pandas]\n",
      "   -------------------------- ------------- 2/3 [pandas]\n",
      "   -------------------------- ------------- 2/3 [pandas]\n",
      "   -------------------------- ------------- 2/3 [pandas]\n",
      "   -------------------------- ------------- 2/3 [pandas]\n",
      "   -------------------------- ------------- 2/3 [pandas]\n",
      "   -------------------------- ------------- 2/3 [pandas]\n",
      "   -------------------------- ------------- 2/3 [pandas]\n",
      "   -------------------------- ------------- 2/3 [pandas]\n",
      "   -------------------------- ------------- 2/3 [pandas]\n",
      "   -------------------------- ------------- 2/3 [pandas]\n",
      "   -------------------------- ------------- 2/3 [pandas]\n",
      "   -------------------------- ------------- 2/3 [pandas]\n",
      "   -------------------------- ------------- 2/3 [pandas]\n",
      "   -------------------------- ------------- 2/3 [pandas]\n",
      "   -------------------------- ------------- 2/3 [pandas]\n",
      "   -------------------------- ------------- 2/3 [pandas]\n",
      "   -------------------------- ------------- 2/3 [pandas]\n",
      "   -------------------------- ------------- 2/3 [pandas]\n",
      "   -------------------------- ------------- 2/3 [pandas]\n",
      "   -------------------------- ------------- 2/3 [pandas]\n",
      "   -------------------------- ------------- 2/3 [pandas]\n",
      "   -------------------------- ------------- 2/3 [pandas]\n",
      "   -------------------------- ------------- 2/3 [pandas]\n",
      "   -------------------------- ------------- 2/3 [pandas]\n",
      "   -------------------------- ------------- 2/3 [pandas]\n",
      "   -------------------------- ------------- 2/3 [pandas]\n",
      "   -------------------------- ------------- 2/3 [pandas]\n",
      "   -------------------------- ------------- 2/3 [pandas]\n",
      "   -------------------------- ------------- 2/3 [pandas]\n",
      "   -------------------------- ------------- 2/3 [pandas]\n",
      "   -------------------------- ------------- 2/3 [pandas]\n",
      "   -------------------------- ------------- 2/3 [pandas]\n",
      "   -------------------------- ------------- 2/3 [pandas]\n",
      "   -------------------------- ------------- 2/3 [pandas]\n",
      "   -------------------------- ------------- 2/3 [pandas]\n",
      "   -------------------------- ------------- 2/3 [pandas]\n",
      "   -------------------------- ------------- 2/3 [pandas]\n",
      "   -------------------------- ------------- 2/3 [pandas]\n",
      "   -------------------------- ------------- 2/3 [pandas]\n",
      "   -------------------------- ------------- 2/3 [pandas]\n",
      "   -------------------------- ------------- 2/3 [pandas]\n",
      "   -------------------------- ------------- 2/3 [pandas]\n",
      "   -------------------------- ------------- 2/3 [pandas]\n",
      "   -------------------------- ------------- 2/3 [pandas]\n",
      "   -------------------------- ------------- 2/3 [pandas]\n",
      "   -------------------------- ------------- 2/3 [pandas]\n",
      "   -------------------------- ------------- 2/3 [pandas]\n",
      "   -------------------------- ------------- 2/3 [pandas]\n",
      "   -------------------------- ------------- 2/3 [pandas]\n",
      "   -------------------------- ------------- 2/3 [pandas]\n",
      "   -------------------------- ------------- 2/3 [pandas]\n",
      "   ---------------------------------------- 3/3 [pandas]\n",
      "\n",
      "Successfully installed pandas-2.3.2 pytz-2025.2 tzdata-2025.2\n"
     ]
    },
    {
     "name": "stderr",
     "output_type": "stream",
     "text": [
      "\n",
      "[notice] A new release of pip is available: 25.1.1 -> 25.2\n",
      "[notice] To update, run: python.exe -m pip install --upgrade pip\n"
     ]
    }
   ],
   "source": [
    "# !pip3 install numpy\n",
    "# !pip3 install pandas"
   ]
  },
  {
   "cell_type": "code",
   "execution_count": null,
   "id": "ff92a296",
   "metadata": {},
   "outputs": [
    {
     "data": {
      "text/html": [
       "<div>\n",
       "<style scoped>\n",
       "    .dataframe tbody tr th:only-of-type {\n",
       "        vertical-align: middle;\n",
       "    }\n",
       "\n",
       "    .dataframe tbody tr th {\n",
       "        vertical-align: top;\n",
       "    }\n",
       "\n",
       "    .dataframe thead th {\n",
       "        text-align: right;\n",
       "    }\n",
       "</style>\n",
       "<table border=\"1\" class=\"dataframe\">\n",
       "  <thead>\n",
       "    <tr style=\"text-align: right;\">\n",
       "      <th></th>\n",
       "      <th>Timestamp</th>\n",
       "      <th>Asset_ID</th>\n",
       "      <th>Latitude</th>\n",
       "      <th>Longitude</th>\n",
       "      <th>Inventory_Level</th>\n",
       "      <th>Shipment_Status</th>\n",
       "      <th>Temperature</th>\n",
       "      <th>Humidity</th>\n",
       "      <th>Traffic_Status</th>\n",
       "      <th>Waiting_Time</th>\n",
       "      <th>User_Transaction_Amount</th>\n",
       "      <th>User_Purchase_Frequency</th>\n",
       "      <th>Logistics_Delay_Reason</th>\n",
       "      <th>Asset_Utilization</th>\n",
       "      <th>Demand_Forecast</th>\n",
       "      <th>Logistics_Delay</th>\n",
       "    </tr>\n",
       "  </thead>\n",
       "  <tbody>\n",
       "    <tr>\n",
       "      <th>0</th>\n",
       "      <td>2024-03-20 00:11:14</td>\n",
       "      <td>Truck_7</td>\n",
       "      <td>-65.7383</td>\n",
       "      <td>11.2497</td>\n",
       "      <td>390</td>\n",
       "      <td>Delayed</td>\n",
       "      <td>27.0</td>\n",
       "      <td>67.8</td>\n",
       "      <td>Detour</td>\n",
       "      <td>38</td>\n",
       "      <td>320</td>\n",
       "      <td>4</td>\n",
       "      <td>NaN</td>\n",
       "      <td>60.1</td>\n",
       "      <td>285</td>\n",
       "      <td>1</td>\n",
       "    </tr>\n",
       "    <tr>\n",
       "      <th>1</th>\n",
       "      <td>2024-10-30 07:53:51</td>\n",
       "      <td>Truck_6</td>\n",
       "      <td>22.2748</td>\n",
       "      <td>-131.7086</td>\n",
       "      <td>491</td>\n",
       "      <td>In Transit</td>\n",
       "      <td>22.5</td>\n",
       "      <td>54.3</td>\n",
       "      <td>Heavy</td>\n",
       "      <td>16</td>\n",
       "      <td>439</td>\n",
       "      <td>7</td>\n",
       "      <td>Weather</td>\n",
       "      <td>80.9</td>\n",
       "      <td>174</td>\n",
       "      <td>1</td>\n",
       "    </tr>\n",
       "    <tr>\n",
       "      <th>2</th>\n",
       "      <td>2024-07-29 18:42:48</td>\n",
       "      <td>Truck_10</td>\n",
       "      <td>54.9232</td>\n",
       "      <td>79.5455</td>\n",
       "      <td>190</td>\n",
       "      <td>In Transit</td>\n",
       "      <td>25.2</td>\n",
       "      <td>62.2</td>\n",
       "      <td>Detour</td>\n",
       "      <td>34</td>\n",
       "      <td>355</td>\n",
       "      <td>3</td>\n",
       "      <td>NaN</td>\n",
       "      <td>99.2</td>\n",
       "      <td>260</td>\n",
       "      <td>0</td>\n",
       "    </tr>\n",
       "    <tr>\n",
       "      <th>3</th>\n",
       "      <td>2024-10-28 00:50:54</td>\n",
       "      <td>Truck_9</td>\n",
       "      <td>42.3900</td>\n",
       "      <td>-1.4788</td>\n",
       "      <td>330</td>\n",
       "      <td>Delivered</td>\n",
       "      <td>25.4</td>\n",
       "      <td>52.3</td>\n",
       "      <td>Heavy</td>\n",
       "      <td>37</td>\n",
       "      <td>227</td>\n",
       "      <td>5</td>\n",
       "      <td>Traffic</td>\n",
       "      <td>97.4</td>\n",
       "      <td>160</td>\n",
       "      <td>1</td>\n",
       "    </tr>\n",
       "    <tr>\n",
       "      <th>4</th>\n",
       "      <td>2024-09-27 15:52:58</td>\n",
       "      <td>Truck_7</td>\n",
       "      <td>-65.8477</td>\n",
       "      <td>47.9468</td>\n",
       "      <td>480</td>\n",
       "      <td>Delayed</td>\n",
       "      <td>20.5</td>\n",
       "      <td>57.2</td>\n",
       "      <td>Clear</td>\n",
       "      <td>56</td>\n",
       "      <td>197</td>\n",
       "      <td>6</td>\n",
       "      <td>NaN</td>\n",
       "      <td>71.6</td>\n",
       "      <td>270</td>\n",
       "      <td>1</td>\n",
       "    </tr>\n",
       "  </tbody>\n",
       "</table>\n",
       "</div>"
      ],
      "text/plain": [
       "             Timestamp  Asset_ID  Latitude  Longitude  Inventory_Level  \\\n",
       "0  2024-03-20 00:11:14   Truck_7  -65.7383    11.2497              390   \n",
       "1  2024-10-30 07:53:51   Truck_6   22.2748  -131.7086              491   \n",
       "2  2024-07-29 18:42:48  Truck_10   54.9232    79.5455              190   \n",
       "3  2024-10-28 00:50:54   Truck_9   42.3900    -1.4788              330   \n",
       "4  2024-09-27 15:52:58   Truck_7  -65.8477    47.9468              480   \n",
       "\n",
       "  Shipment_Status  Temperature  Humidity Traffic_Status  Waiting_Time  \\\n",
       "0         Delayed         27.0      67.8         Detour            38   \n",
       "1      In Transit         22.5      54.3          Heavy            16   \n",
       "2      In Transit         25.2      62.2         Detour            34   \n",
       "3       Delivered         25.4      52.3          Heavy            37   \n",
       "4         Delayed         20.5      57.2          Clear            56   \n",
       "\n",
       "   User_Transaction_Amount  User_Purchase_Frequency Logistics_Delay_Reason  \\\n",
       "0                      320                        4                    NaN   \n",
       "1                      439                        7                Weather   \n",
       "2                      355                        3                    NaN   \n",
       "3                      227                        5                Traffic   \n",
       "4                      197                        6                    NaN   \n",
       "\n",
       "   Asset_Utilization  Demand_Forecast  Logistics_Delay  \n",
       "0               60.1              285                1  \n",
       "1               80.9              174                1  \n",
       "2               99.2              260                0  \n",
       "3               97.4              160                1  \n",
       "4               71.6              270                1  "
      ]
     },
     "execution_count": 1,
     "metadata": {},
     "output_type": "execute_result"
    }
   ],
   "source": [
    "import numpy as np\n",
    "import pandas as pd\n",
    "import matplotlib.pyplot as plt\n",
    "import os\n",
    "\n",
    "#loading the dataset and reading the csv file\n",
    "data = './exel_files/smart_logistics_dataset.csv'\n",
    "data1 = pd.read_csv(data)\n",
    "\n",
    "#first 5 rows of the dataset\n",
    "data1.head()"
   ]
  },
  {
   "cell_type": "code",
   "execution_count": 2,
   "id": "5308a8f5",
   "metadata": {},
   "outputs": [
    {
     "name": "stdout",
     "output_type": "stream",
     "text": [
      "<class 'pandas.core.frame.DataFrame'>\n",
      "RangeIndex: 1000 entries, 0 to 999\n",
      "Data columns (total 16 columns):\n",
      " #   Column                   Non-Null Count  Dtype  \n",
      "---  ------                   --------------  -----  \n",
      " 0   Timestamp                1000 non-null   object \n",
      " 1   Asset_ID                 1000 non-null   object \n",
      " 2   Latitude                 1000 non-null   float64\n",
      " 3   Longitude                1000 non-null   float64\n",
      " 4   Inventory_Level          1000 non-null   int64  \n",
      " 5   Shipment_Status          1000 non-null   object \n",
      " 6   Temperature              1000 non-null   float64\n",
      " 7   Humidity                 1000 non-null   float64\n",
      " 8   Traffic_Status           1000 non-null   object \n",
      " 9   Waiting_Time             1000 non-null   int64  \n",
      " 10  User_Transaction_Amount  1000 non-null   int64  \n",
      " 11  User_Purchase_Frequency  1000 non-null   int64  \n",
      " 12  Logistics_Delay_Reason   737 non-null    object \n",
      " 13  Asset_Utilization        1000 non-null   float64\n",
      " 14  Demand_Forecast          1000 non-null   int64  \n",
      " 15  Logistics_Delay          1000 non-null   int64  \n",
      "dtypes: float64(5), int64(6), object(5)\n",
      "memory usage: 125.1+ KB\n"
     ]
    }
   ],
   "source": [
    "data1.info()"
   ]
  },
  {
   "cell_type": "code",
   "execution_count": 3,
   "id": "fbb6089f",
   "metadata": {},
   "outputs": [
    {
     "data": {
      "text/html": [
       "<div>\n",
       "<style scoped>\n",
       "    .dataframe tbody tr th:only-of-type {\n",
       "        vertical-align: middle;\n",
       "    }\n",
       "\n",
       "    .dataframe tbody tr th {\n",
       "        vertical-align: top;\n",
       "    }\n",
       "\n",
       "    .dataframe thead th {\n",
       "        text-align: right;\n",
       "    }\n",
       "</style>\n",
       "<table border=\"1\" class=\"dataframe\">\n",
       "  <thead>\n",
       "    <tr style=\"text-align: right;\">\n",
       "      <th></th>\n",
       "      <th>Latitude</th>\n",
       "      <th>Longitude</th>\n",
       "      <th>Inventory_Level</th>\n",
       "      <th>Temperature</th>\n",
       "      <th>Humidity</th>\n",
       "      <th>Waiting_Time</th>\n",
       "      <th>User_Transaction_Amount</th>\n",
       "      <th>User_Purchase_Frequency</th>\n",
       "      <th>Asset_Utilization</th>\n",
       "      <th>Demand_Forecast</th>\n",
       "      <th>Logistics_Delay</th>\n",
       "    </tr>\n",
       "  </thead>\n",
       "  <tbody>\n",
       "    <tr>\n",
       "      <th>count</th>\n",
       "      <td>1000.000000</td>\n",
       "      <td>1000.000000</td>\n",
       "      <td>1000.000000</td>\n",
       "      <td>1000.000000</td>\n",
       "      <td>1000.000000</td>\n",
       "      <td>1000.000000</td>\n",
       "      <td>1000.000000</td>\n",
       "      <td>1000.000000</td>\n",
       "      <td>1000.000000</td>\n",
       "      <td>1000.000000</td>\n",
       "      <td>1000.000000</td>\n",
       "    </tr>\n",
       "    <tr>\n",
       "      <th>mean</th>\n",
       "      <td>-1.360093</td>\n",
       "      <td>0.837049</td>\n",
       "      <td>297.915000</td>\n",
       "      <td>23.893900</td>\n",
       "      <td>65.042200</td>\n",
       "      <td>35.062000</td>\n",
       "      <td>299.055000</td>\n",
       "      <td>5.513000</td>\n",
       "      <td>79.599100</td>\n",
       "      <td>199.284000</td>\n",
       "      <td>0.566000</td>\n",
       "    </tr>\n",
       "    <tr>\n",
       "      <th>std</th>\n",
       "      <td>51.997183</td>\n",
       "      <td>104.843618</td>\n",
       "      <td>113.554773</td>\n",
       "      <td>3.322178</td>\n",
       "      <td>8.753765</td>\n",
       "      <td>14.477768</td>\n",
       "      <td>117.787792</td>\n",
       "      <td>2.935379</td>\n",
       "      <td>11.631153</td>\n",
       "      <td>59.920847</td>\n",
       "      <td>0.495873</td>\n",
       "    </tr>\n",
       "    <tr>\n",
       "      <th>min</th>\n",
       "      <td>-89.791500</td>\n",
       "      <td>-179.820200</td>\n",
       "      <td>100.000000</td>\n",
       "      <td>18.000000</td>\n",
       "      <td>50.000000</td>\n",
       "      <td>10.000000</td>\n",
       "      <td>100.000000</td>\n",
       "      <td>1.000000</td>\n",
       "      <td>60.000000</td>\n",
       "      <td>100.000000</td>\n",
       "      <td>0.000000</td>\n",
       "    </tr>\n",
       "    <tr>\n",
       "      <th>25%</th>\n",
       "      <td>-46.167975</td>\n",
       "      <td>-88.448075</td>\n",
       "      <td>201.000000</td>\n",
       "      <td>21.200000</td>\n",
       "      <td>57.200000</td>\n",
       "      <td>23.000000</td>\n",
       "      <td>191.750000</td>\n",
       "      <td>3.000000</td>\n",
       "      <td>69.475000</td>\n",
       "      <td>144.000000</td>\n",
       "      <td>0.000000</td>\n",
       "    </tr>\n",
       "    <tr>\n",
       "      <th>50%</th>\n",
       "      <td>-4.503150</td>\n",
       "      <td>0.678300</td>\n",
       "      <td>299.000000</td>\n",
       "      <td>23.800000</td>\n",
       "      <td>65.200000</td>\n",
       "      <td>35.000000</td>\n",
       "      <td>301.500000</td>\n",
       "      <td>6.000000</td>\n",
       "      <td>79.250000</td>\n",
       "      <td>202.000000</td>\n",
       "      <td>1.000000</td>\n",
       "    </tr>\n",
       "    <tr>\n",
       "      <th>75%</th>\n",
       "      <td>44.502800</td>\n",
       "      <td>88.156450</td>\n",
       "      <td>399.000000</td>\n",
       "      <td>26.600000</td>\n",
       "      <td>72.400000</td>\n",
       "      <td>49.000000</td>\n",
       "      <td>405.000000</td>\n",
       "      <td>8.000000</td>\n",
       "      <td>89.425000</td>\n",
       "      <td>251.250000</td>\n",
       "      <td>1.000000</td>\n",
       "    </tr>\n",
       "    <tr>\n",
       "      <th>max</th>\n",
       "      <td>89.870100</td>\n",
       "      <td>179.923700</td>\n",
       "      <td>500.000000</td>\n",
       "      <td>30.000000</td>\n",
       "      <td>80.000000</td>\n",
       "      <td>60.000000</td>\n",
       "      <td>500.000000</td>\n",
       "      <td>10.000000</td>\n",
       "      <td>100.000000</td>\n",
       "      <td>300.000000</td>\n",
       "      <td>1.000000</td>\n",
       "    </tr>\n",
       "  </tbody>\n",
       "</table>\n",
       "</div>"
      ],
      "text/plain": [
       "          Latitude    Longitude  Inventory_Level  Temperature     Humidity  \\\n",
       "count  1000.000000  1000.000000      1000.000000  1000.000000  1000.000000   \n",
       "mean     -1.360093     0.837049       297.915000    23.893900    65.042200   \n",
       "std      51.997183   104.843618       113.554773     3.322178     8.753765   \n",
       "min     -89.791500  -179.820200       100.000000    18.000000    50.000000   \n",
       "25%     -46.167975   -88.448075       201.000000    21.200000    57.200000   \n",
       "50%      -4.503150     0.678300       299.000000    23.800000    65.200000   \n",
       "75%      44.502800    88.156450       399.000000    26.600000    72.400000   \n",
       "max      89.870100   179.923700       500.000000    30.000000    80.000000   \n",
       "\n",
       "       Waiting_Time  User_Transaction_Amount  User_Purchase_Frequency  \\\n",
       "count   1000.000000              1000.000000              1000.000000   \n",
       "mean      35.062000               299.055000                 5.513000   \n",
       "std       14.477768               117.787792                 2.935379   \n",
       "min       10.000000               100.000000                 1.000000   \n",
       "25%       23.000000               191.750000                 3.000000   \n",
       "50%       35.000000               301.500000                 6.000000   \n",
       "75%       49.000000               405.000000                 8.000000   \n",
       "max       60.000000               500.000000                10.000000   \n",
       "\n",
       "       Asset_Utilization  Demand_Forecast  Logistics_Delay  \n",
       "count        1000.000000      1000.000000      1000.000000  \n",
       "mean           79.599100       199.284000         0.566000  \n",
       "std            11.631153        59.920847         0.495873  \n",
       "min            60.000000       100.000000         0.000000  \n",
       "25%            69.475000       144.000000         0.000000  \n",
       "50%            79.250000       202.000000         1.000000  \n",
       "75%            89.425000       251.250000         1.000000  \n",
       "max           100.000000       300.000000         1.000000  "
      ]
     },
     "execution_count": 3,
     "metadata": {},
     "output_type": "execute_result"
    }
   ],
   "source": [
    "data1.describe()"
   ]
  },
  {
   "cell_type": "code",
   "execution_count": 6,
   "id": "dc2c5dc3",
   "metadata": {},
   "outputs": [],
   "source": [
    "import reverse_geocode\n",
    "\n",
    "#get location from coordinates\n",
    "def get_location_name(lat, lon):\n",
    "    location = reverse_geocode.search([(lat, lon)])\n",
    "    # print('location: ', location)\n",
    "    return f'{location[0]['city']}, {location[0]['country']}'\n",
    "\n",
    "data1['Location'] = data1.apply(lambda row: get_location_name(row['Latitude'], row['Longitude']), axis=1)"
   ]
  },
  {
   "cell_type": "code",
   "execution_count": null,
   "id": "cc17319f",
   "metadata": {},
   "outputs": [],
   "source": [
    "#convert 'Timestamp' column to datetime format\n",
    "data1['Timestamp'] = pd.to_datetime(data1['Timestamp'])"
   ]
  },
  {
   "cell_type": "code",
   "execution_count": 12,
   "id": "13fd63c1",
   "metadata": {},
   "outputs": [
    {
     "data": {
      "text/plain": [
       "<Axes: title={'center': 'Number of trucks in the dataset'}, xlabel='Asset_ID'>"
      ]
     },
     "execution_count": 12,
     "metadata": {},
     "output_type": "execute_result"
    },
    {
     "data": {
      "image/png": "[encoded data removed]",
      "text/plain": [
       "<Figure size 640x480 with 1 Axes>"
      ]
     },
     "metadata": {},
     "output_type": "display_data"
    }
   ],
   "source": [
    "#how much trucks are we having\n",
    "data1['Asset_ID'].value_counts().plot(kind='bar', title='Number of trucks in the dataset', color='green')"
   ]
  },
  {
   "cell_type": "code",
   "execution_count": 19,
   "id": "8fef7a1d",
   "metadata": {},
   "outputs": [
    {
     "data": {
      "text/plain": [
       "<Axes: title={'center': 'Inventory level distribution'}, ylabel='Frequency'>"
      ]
     },
     "execution_count": 19,
     "metadata": {},
     "output_type": "execute_result"
    },
    {
     "data": {
      "image/png": "[encoded data removed]",
      "text/plain": [
       "<Figure size 640x480 with 1 Axes>"
      ]
     },
     "metadata": {},
     "output_type": "display_data"
    }
   ],
   "source": [
    "data1['Inventory_Level'].plot(kind='hist', title='Inventory level distribution')"
   ]
  },
  {
   "cell_type": "code",
   "execution_count": 20,
   "id": "3a6c7e3b",
   "metadata": {},
   "outputs": [
    {
     "data": {
      "text/plain": [
       "<Axes: title={'center': 'Shipment Status'}, xlabel='Shipment_Status'>"
      ]
     },
     "execution_count": 20,
     "metadata": {},
     "output_type": "execute_result"
    },
    {
     "data": {
      "image/png": "[encoded data removed]",
      "text/plain": [
       "<Figure size 640x480 with 1 Axes>"
      ]
     },
     "metadata": {},
     "output_type": "display_data"
    }
   ],
   "source": [
    "#Статус отгрузки\n",
    "data1['Shipment_Status'].value_counts().plot(kind='bar', title='Shipment Status', color='red')"
   ]
  },
  {
   "cell_type": "code",
   "execution_count": null,
   "id": "78ec6dff",
   "metadata": {},
   "outputs": [
    {
     "data": {
      "text/plain": [
       "<Axes: ylabel='Frequency'>"
      ]
     },
     "execution_count": 21,
     "metadata": {},
     "output_type": "execute_result"
    },
    {
     "data": {
      "image/png": "[encoded data removed]",
      "text/plain": [
       "<Figure size 640x480 with 1 Axes>"
      ]
     },
     "metadata": {},
     "output_type": "display_data"
    }
   ],
   "source": [
    "data1['Temperature'].plot(kind='hist', title='Temepature distribution')"
   ]
  },
  {
   "cell_type": "code",
   "execution_count": null,
   "id": "96573b2a",
   "metadata": {},
   "outputs": [
    {
     "name": "stdout",
     "output_type": "stream",
     "text": [
      "<class 'pandas.core.frame.DataFrame'>\n",
      "RangeIndex: 1000 entries, 0 to 999\n",
      "Data columns (total 17 columns):\n",
      " #   Column                   Non-Null Count  Dtype         \n",
      "---  ------                   --------------  -----         \n",
      " 0   Timestamp                1000 non-null   datetime64[ns]\n",
      " 1   Asset_ID                 1000 non-null   object        \n",
      " 2   Latitude                 1000 non-null   float64       \n",
      " 3   Longitude                1000 non-null   float64       \n",
      " 4   Inventory_Level          1000 non-null   int64         \n",
      " 5   Shipment_Status          1000 non-null   object        \n",
      " 6   Temperature              1000 non-null   float64       \n",
      " 7   Humidity                 1000 non-null   float64       \n",
      " 8   Traffic_Status           1000 non-null   object        \n",
      " 9   Waiting_Time             1000 non-null   int64         \n",
      " 10  User_Transaction_Amount  1000 non-null   int64         \n",
      " 11  User_Purchase_Frequency  1000 non-null   int64         \n",
      " 12  Logistics_Delay_Reason   737 non-null    object        \n",
      " 13  Asset_Utilization        1000 non-null   float64       \n",
      " 14  Demand_Forecast          1000 non-null   int64         \n",
      " 15  Logistics_Delay          1000 non-null   int64         \n",
      " 16  Location                 1000 non-null   object        \n",
      "dtypes: datetime64[ns](1), float64(5), int64(6), object(5)\n",
      "memory usage: 132.9+ KB\n"
     ]
    }
   ],
   "source": [
    "#checking location column\n",
    "data1.head(5)\n",
    "# data1.info()"
   ]
  },
  {
   "cell_type": "code",
   "execution_count": 23,
   "id": "c5dbae15",
   "metadata": {},
   "outputs": [
    {
     "data": {
      "text/plain": [
       "<Axes: title={'center': 'Humidity distribution'}, ylabel='Frequency'>"
      ]
     },
     "execution_count": 23,
     "metadata": {},
     "output_type": "execute_result"
    },
    {
     "data": {
      "image/png": "[encoded data removed]",
      "text/plain": [
       "<Figure size 640x480 with 1 Axes>"
      ]
     },
     "metadata": {},
     "output_type": "display_data"
    }
   ],
   "source": [
    "data1['Humidity'].plot(kind='hist', title='Humidity distribution')"
   ]
  }
 ],
 "metadata": {
  "kernelspec": {
   "display_name": ".venv (3.12.6)",
   "language": "python",
   "name": "python3"
  },
  "language_info": {
   "codemirror_mode": {
    "name": "ipython",
    "version": 3
   },
   "file_extension": ".py",
   "mimetype": "text/x-python",
   "name": "python",
   "nbconvert_exporter": "python",
   "pygments_lexer": "ipython3",
   "version": "3.12.6"
  }
 },
 "nbformat": 4,
 "nbformat_minor": 5
}
